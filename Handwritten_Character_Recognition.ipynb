{
  "nbformat": 4,
  "nbformat_minor": 0,
  "metadata": {
    "colab": {
      "provenance": [],
      "mount_file_id": "1vdHs6znDC9cScEQSwAP6ayqaQxX__qE9",
      "authorship_tag": "ABX9TyP/WpOY1++oTwLMtjFeG2An",
      "include_colab_link": true
    },
    "kernelspec": {
      "name": "python3",
      "display_name": "Python 3"
    },
    "language_info": {
      "name": "python"
    }
  },
  "cells": [
    {
      "cell_type": "markdown",
      "metadata": {
        "id": "view-in-github",
        "colab_type": "text"
      },
      "source": [
        "<a href=\"https://colab.research.google.com/github/Kamalalayagummadi/Handwriting-recognition-Using-CNN-BiLSTM-CTC/blob/main/Handwritten_Character_Recognition.ipynb\" target=\"_parent\"><img src=\"https://colab.research.google.com/assets/colab-badge.svg\" alt=\"Open In Colab\"/></a>"
      ]
    },
    {
      "cell_type": "markdown",
      "source": [
        "# Handwritten Character Recognition\n",
        "\n",
        "**Mid Project - 2**"
      ],
      "metadata": {
        "id": "LFk6Ls6e0LME"
      }
    },
    {
      "cell_type": "markdown",
      "source": [
        "**Import Necessary Libraries**"
      ],
      "metadata": {
        "id": "DoHKK3F6Odci"
      }
    },
    {
      "cell_type": "code",
      "source": [
        "import os\n",
        "import cv2\n",
        "import numpy as np\n",
        "import pandas as pd\n",
        "import matplotlib.pyplot as plt\n",
        "from sklearn.model_selection import train_test_split\n",
        "from keras.models import Model\n",
        "from keras.layers import Input, Conv2D, MaxPooling2D, Flatten, Dense, Dropout, Bidirectional, LSTM, Lambda\n",
        "from keras.optimizers import Adam\n",
        "from keras import backend as K\n",
        "from keras.preprocessing.sequence import pad_sequences\n",
        "from keras.utils import to_categorical\n",
        "from keras.callbacks import ModelCheckpoint\n",
        "from keras.backend import ctc_batch_cost, ctc_decode"
      ],
      "metadata": {
        "id": "duF4Gh4xpLZO"
      },
      "execution_count": 71,
      "outputs": []
    },
    {
      "cell_type": "markdown",
      "source": [
        "**1. Read the parser.txt file containing the image id and the respective word for that image and take the first 10000 instances for training and testing of the model**\n",
        "\n",
        "\n",
        "\n"
      ],
      "metadata": {
        "id": "hWEuDeGBrpcx"
      }
    },
    {
      "cell_type": "code",
      "source": [
        "\n",
        "# Define the path to your parser.txt file\n",
        "parser_file_path = '/content/drive/MyDrive/parser/parser.txt'\n"
      ],
      "metadata": {
        "id": "8egR-JnqqIpl"
      },
      "execution_count": 72,
      "outputs": []
    },
    {
      "cell_type": "code",
      "source": [
        "# Initialize an empty list to store valid data\n",
        "data_list = []\n",
        "\n",
        "# Read the parser.txt file line by line\n",
        "with open(parser_file_path, 'r') as file:\n",
        "  for line_number, line in enumerate(file, start=1):\n",
        "    try:\n",
        "# Split the line into Image_ID and Word\n",
        "      image_id, word = line.strip().split(' ', 1)\n",
        "      data_list.append({'Image_ID': image_id, 'Word': word})\n",
        "    except ValueError:\n",
        "        print(f\"Skipping line {line_number} due to unexpected structure.\")"
      ],
      "metadata": {
        "id": "01EIfKM-qWd-"
      },
      "execution_count": 73,
      "outputs": []
    },
    {
      "cell_type": "code",
      "source": [
        "print(\"Sample entries in data_list:\")\n",
        "print(data_list[:5])"
      ],
      "metadata": {
        "colab": {
          "base_uri": "https://localhost:8080/"
        },
        "id": "9fdWnEQQUlAb",
        "outputId": "f5cae3e8-d38d-40ae-dbe5-aff0a16d5452"
      },
      "execution_count": null,
      "outputs": [
        {
          "output_type": "stream",
          "name": "stdout",
          "text": [
            "Sample entries in data_list:\n",
            "[{'Image_ID': 'a01-000u-00-00', 'Word': 'ok 154 408 768 27 51 AT A'}, {'Image_ID': 'a01-000u-00-01', 'Word': 'ok 154 507 766 213 48 NN MOVE'}, {'Image_ID': 'a01-000u-00-02', 'Word': 'ok 154 796 764 70 50 TO to'}, {'Image_ID': 'a01-000u-00-03', 'Word': 'ok 154 919 757 166 78 VB stop'}, {'Image_ID': 'a01-000u-00-04', 'Word': 'ok 154 1185 754 126 61 NPT Mr.'}]\n"
          ]
        }
      ]
    },
    {
      "cell_type": "code",
      "source": [
        "# Create a DataFrame from the list of valid data\n",
        "df = pd.DataFrame(data_list)"
      ],
      "metadata": {
        "id": "mr6K49U0rLsF"
      },
      "execution_count": null,
      "outputs": []
    },
    {
      "cell_type": "code",
      "source": [
        "df.head()"
      ],
      "metadata": {
        "colab": {
          "base_uri": "https://localhost:8080/",
          "height": 206
        },
        "id": "V8XEMr8dUy2I",
        "outputId": "fabfeddc-aafb-4c2c-de8b-01f291941144"
      },
      "execution_count": null,
      "outputs": [
        {
          "output_type": "execute_result",
          "data": {
            "text/plain": [
              "         Image_ID                            Word\n",
              "0  a01-000u-00-00       ok 154 408 768 27 51 AT A\n",
              "1  a01-000u-00-01   ok 154 507 766 213 48 NN MOVE\n",
              "2  a01-000u-00-02      ok 154 796 764 70 50 TO to\n",
              "3  a01-000u-00-03   ok 154 919 757 166 78 VB stop\n",
              "4  a01-000u-00-04  ok 154 1185 754 126 61 NPT Mr."
            ],
            "text/html": [
              "\n",
              "  <div id=\"df-29498c7e-f44e-421c-aa2e-364aea05c021\" class=\"colab-df-container\">\n",
              "    <div>\n",
              "<style scoped>\n",
              "    .dataframe tbody tr th:only-of-type {\n",
              "        vertical-align: middle;\n",
              "    }\n",
              "\n",
              "    .dataframe tbody tr th {\n",
              "        vertical-align: top;\n",
              "    }\n",
              "\n",
              "    .dataframe thead th {\n",
              "        text-align: right;\n",
              "    }\n",
              "</style>\n",
              "<table border=\"1\" class=\"dataframe\">\n",
              "  <thead>\n",
              "    <tr style=\"text-align: right;\">\n",
              "      <th></th>\n",
              "      <th>Image_ID</th>\n",
              "      <th>Word</th>\n",
              "    </tr>\n",
              "  </thead>\n",
              "  <tbody>\n",
              "    <tr>\n",
              "      <th>0</th>\n",
              "      <td>a01-000u-00-00</td>\n",
              "      <td>ok 154 408 768 27 51 AT A</td>\n",
              "    </tr>\n",
              "    <tr>\n",
              "      <th>1</th>\n",
              "      <td>a01-000u-00-01</td>\n",
              "      <td>ok 154 507 766 213 48 NN MOVE</td>\n",
              "    </tr>\n",
              "    <tr>\n",
              "      <th>2</th>\n",
              "      <td>a01-000u-00-02</td>\n",
              "      <td>ok 154 796 764 70 50 TO to</td>\n",
              "    </tr>\n",
              "    <tr>\n",
              "      <th>3</th>\n",
              "      <td>a01-000u-00-03</td>\n",
              "      <td>ok 154 919 757 166 78 VB stop</td>\n",
              "    </tr>\n",
              "    <tr>\n",
              "      <th>4</th>\n",
              "      <td>a01-000u-00-04</td>\n",
              "      <td>ok 154 1185 754 126 61 NPT Mr.</td>\n",
              "    </tr>\n",
              "  </tbody>\n",
              "</table>\n",
              "</div>\n",
              "    <div class=\"colab-df-buttons\">\n",
              "\n",
              "  <div class=\"colab-df-container\">\n",
              "    <button class=\"colab-df-convert\" onclick=\"convertToInteractive('df-29498c7e-f44e-421c-aa2e-364aea05c021')\"\n",
              "            title=\"Convert this dataframe to an interactive table.\"\n",
              "            style=\"display:none;\">\n",
              "\n",
              "  <svg xmlns=\"http://www.w3.org/2000/svg\" height=\"24px\" viewBox=\"0 -960 960 960\">\n",
              "    <path d=\"M120-120v-720h720v720H120Zm60-500h600v-160H180v160Zm220 220h160v-160H400v160Zm0 220h160v-160H400v160ZM180-400h160v-160H180v160Zm440 0h160v-160H620v160ZM180-180h160v-160H180v160Zm440 0h160v-160H620v160Z\"/>\n",
              "  </svg>\n",
              "    </button>\n",
              "\n",
              "  <style>\n",
              "    .colab-df-container {\n",
              "      display:flex;\n",
              "      gap: 12px;\n",
              "    }\n",
              "\n",
              "    .colab-df-convert {\n",
              "      background-color: #E8F0FE;\n",
              "      border: none;\n",
              "      border-radius: 50%;\n",
              "      cursor: pointer;\n",
              "      display: none;\n",
              "      fill: #1967D2;\n",
              "      height: 32px;\n",
              "      padding: 0 0 0 0;\n",
              "      width: 32px;\n",
              "    }\n",
              "\n",
              "    .colab-df-convert:hover {\n",
              "      background-color: #E2EBFA;\n",
              "      box-shadow: 0px 1px 2px rgba(60, 64, 67, 0.3), 0px 1px 3px 1px rgba(60, 64, 67, 0.15);\n",
              "      fill: #174EA6;\n",
              "    }\n",
              "\n",
              "    .colab-df-buttons div {\n",
              "      margin-bottom: 4px;\n",
              "    }\n",
              "\n",
              "    [theme=dark] .colab-df-convert {\n",
              "      background-color: #3B4455;\n",
              "      fill: #D2E3FC;\n",
              "    }\n",
              "\n",
              "    [theme=dark] .colab-df-convert:hover {\n",
              "      background-color: #434B5C;\n",
              "      box-shadow: 0px 1px 3px 1px rgba(0, 0, 0, 0.15);\n",
              "      filter: drop-shadow(0px 1px 2px rgba(0, 0, 0, 0.3));\n",
              "      fill: #FFFFFF;\n",
              "    }\n",
              "  </style>\n",
              "\n",
              "    <script>\n",
              "      const buttonEl =\n",
              "        document.querySelector('#df-29498c7e-f44e-421c-aa2e-364aea05c021 button.colab-df-convert');\n",
              "      buttonEl.style.display =\n",
              "        google.colab.kernel.accessAllowed ? 'block' : 'none';\n",
              "\n",
              "      async function convertToInteractive(key) {\n",
              "        const element = document.querySelector('#df-29498c7e-f44e-421c-aa2e-364aea05c021');\n",
              "        const dataTable =\n",
              "          await google.colab.kernel.invokeFunction('convertToInteractive',\n",
              "                                                    [key], {});\n",
              "        if (!dataTable) return;\n",
              "\n",
              "        const docLinkHtml = 'Like what you see? Visit the ' +\n",
              "          '<a target=\"_blank\" href=https://colab.research.google.com/notebooks/data_table.ipynb>data table notebook</a>'\n",
              "          + ' to learn more about interactive tables.';\n",
              "        element.innerHTML = '';\n",
              "        dataTable['output_type'] = 'display_data';\n",
              "        await google.colab.output.renderOutput(dataTable, element);\n",
              "        const docLink = document.createElement('div');\n",
              "        docLink.innerHTML = docLinkHtml;\n",
              "        element.appendChild(docLink);\n",
              "      }\n",
              "    </script>\n",
              "  </div>\n",
              "\n",
              "\n",
              "<div id=\"df-d9fbbdbd-30aa-4cef-b2b6-117d763a7403\">\n",
              "  <button class=\"colab-df-quickchart\" onclick=\"quickchart('df-d9fbbdbd-30aa-4cef-b2b6-117d763a7403')\"\n",
              "            title=\"Suggest charts\"\n",
              "            style=\"display:none;\">\n",
              "\n",
              "<svg xmlns=\"http://www.w3.org/2000/svg\" height=\"24px\"viewBox=\"0 0 24 24\"\n",
              "     width=\"24px\">\n",
              "    <g>\n",
              "        <path d=\"M19 3H5c-1.1 0-2 .9-2 2v14c0 1.1.9 2 2 2h14c1.1 0 2-.9 2-2V5c0-1.1-.9-2-2-2zM9 17H7v-7h2v7zm4 0h-2V7h2v10zm4 0h-2v-4h2v4z\"/>\n",
              "    </g>\n",
              "</svg>\n",
              "  </button>\n",
              "\n",
              "<style>\n",
              "  .colab-df-quickchart {\n",
              "      --bg-color: #E8F0FE;\n",
              "      --fill-color: #1967D2;\n",
              "      --hover-bg-color: #E2EBFA;\n",
              "      --hover-fill-color: #174EA6;\n",
              "      --disabled-fill-color: #AAA;\n",
              "      --disabled-bg-color: #DDD;\n",
              "  }\n",
              "\n",
              "  [theme=dark] .colab-df-quickchart {\n",
              "      --bg-color: #3B4455;\n",
              "      --fill-color: #D2E3FC;\n",
              "      --hover-bg-color: #434B5C;\n",
              "      --hover-fill-color: #FFFFFF;\n",
              "      --disabled-bg-color: #3B4455;\n",
              "      --disabled-fill-color: #666;\n",
              "  }\n",
              "\n",
              "  .colab-df-quickchart {\n",
              "    background-color: var(--bg-color);\n",
              "    border: none;\n",
              "    border-radius: 50%;\n",
              "    cursor: pointer;\n",
              "    display: none;\n",
              "    fill: var(--fill-color);\n",
              "    height: 32px;\n",
              "    padding: 0;\n",
              "    width: 32px;\n",
              "  }\n",
              "\n",
              "  .colab-df-quickchart:hover {\n",
              "    background-color: var(--hover-bg-color);\n",
              "    box-shadow: 0 1px 2px rgba(60, 64, 67, 0.3), 0 1px 3px 1px rgba(60, 64, 67, 0.15);\n",
              "    fill: var(--button-hover-fill-color);\n",
              "  }\n",
              "\n",
              "  .colab-df-quickchart-complete:disabled,\n",
              "  .colab-df-quickchart-complete:disabled:hover {\n",
              "    background-color: var(--disabled-bg-color);\n",
              "    fill: var(--disabled-fill-color);\n",
              "    box-shadow: none;\n",
              "  }\n",
              "\n",
              "  .colab-df-spinner {\n",
              "    border: 2px solid var(--fill-color);\n",
              "    border-color: transparent;\n",
              "    border-bottom-color: var(--fill-color);\n",
              "    animation:\n",
              "      spin 1s steps(1) infinite;\n",
              "  }\n",
              "\n",
              "  @keyframes spin {\n",
              "    0% {\n",
              "      border-color: transparent;\n",
              "      border-bottom-color: var(--fill-color);\n",
              "      border-left-color: var(--fill-color);\n",
              "    }\n",
              "    20% {\n",
              "      border-color: transparent;\n",
              "      border-left-color: var(--fill-color);\n",
              "      border-top-color: var(--fill-color);\n",
              "    }\n",
              "    30% {\n",
              "      border-color: transparent;\n",
              "      border-left-color: var(--fill-color);\n",
              "      border-top-color: var(--fill-color);\n",
              "      border-right-color: var(--fill-color);\n",
              "    }\n",
              "    40% {\n",
              "      border-color: transparent;\n",
              "      border-right-color: var(--fill-color);\n",
              "      border-top-color: var(--fill-color);\n",
              "    }\n",
              "    60% {\n",
              "      border-color: transparent;\n",
              "      border-right-color: var(--fill-color);\n",
              "    }\n",
              "    80% {\n",
              "      border-color: transparent;\n",
              "      border-right-color: var(--fill-color);\n",
              "      border-bottom-color: var(--fill-color);\n",
              "    }\n",
              "    90% {\n",
              "      border-color: transparent;\n",
              "      border-bottom-color: var(--fill-color);\n",
              "    }\n",
              "  }\n",
              "</style>\n",
              "\n",
              "  <script>\n",
              "    async function quickchart(key) {\n",
              "      const quickchartButtonEl =\n",
              "        document.querySelector('#' + key + ' button');\n",
              "      quickchartButtonEl.disabled = true;  // To prevent multiple clicks.\n",
              "      quickchartButtonEl.classList.add('colab-df-spinner');\n",
              "      try {\n",
              "        const charts = await google.colab.kernel.invokeFunction(\n",
              "            'suggestCharts', [key], {});\n",
              "      } catch (error) {\n",
              "        console.error('Error during call to suggestCharts:', error);\n",
              "      }\n",
              "      quickchartButtonEl.classList.remove('colab-df-spinner');\n",
              "      quickchartButtonEl.classList.add('colab-df-quickchart-complete');\n",
              "    }\n",
              "    (() => {\n",
              "      let quickchartButtonEl =\n",
              "        document.querySelector('#df-d9fbbdbd-30aa-4cef-b2b6-117d763a7403 button');\n",
              "      quickchartButtonEl.style.display =\n",
              "        google.colab.kernel.accessAllowed ? 'block' : 'none';\n",
              "    })();\n",
              "  </script>\n",
              "</div>\n",
              "\n",
              "    </div>\n",
              "  </div>\n"
            ]
          },
          "metadata": {},
          "execution_count": 12
        }
      ]
    },
    {
      "cell_type": "code",
      "source": [
        "# Take the first 10000 instances for training and testing\n",
        "df_subset = df.head(10000)"
      ],
      "metadata": {
        "id": "XqDHs_-brYqf"
      },
      "execution_count": null,
      "outputs": []
    },
    {
      "cell_type": "code",
      "source": [
        "df_subset.head()"
      ],
      "metadata": {
        "colab": {
          "base_uri": "https://localhost:8080/",
          "height": 206
        },
        "id": "_UUvS_YAU8dm",
        "outputId": "ed3abba8-20b3-40e1-a7e6-0dddc503c6ab"
      },
      "execution_count": null,
      "outputs": [
        {
          "output_type": "execute_result",
          "data": {
            "text/plain": [
              "         Image_ID                            Word\n",
              "0  a01-000u-00-00       ok 154 408 768 27 51 AT A\n",
              "1  a01-000u-00-01   ok 154 507 766 213 48 NN MOVE\n",
              "2  a01-000u-00-02      ok 154 796 764 70 50 TO to\n",
              "3  a01-000u-00-03   ok 154 919 757 166 78 VB stop\n",
              "4  a01-000u-00-04  ok 154 1185 754 126 61 NPT Mr."
            ],
            "text/html": [
              "\n",
              "  <div id=\"df-7573a259-79c6-49e2-af3c-042476facdc4\" class=\"colab-df-container\">\n",
              "    <div>\n",
              "<style scoped>\n",
              "    .dataframe tbody tr th:only-of-type {\n",
              "        vertical-align: middle;\n",
              "    }\n",
              "\n",
              "    .dataframe tbody tr th {\n",
              "        vertical-align: top;\n",
              "    }\n",
              "\n",
              "    .dataframe thead th {\n",
              "        text-align: right;\n",
              "    }\n",
              "</style>\n",
              "<table border=\"1\" class=\"dataframe\">\n",
              "  <thead>\n",
              "    <tr style=\"text-align: right;\">\n",
              "      <th></th>\n",
              "      <th>Image_ID</th>\n",
              "      <th>Word</th>\n",
              "    </tr>\n",
              "  </thead>\n",
              "  <tbody>\n",
              "    <tr>\n",
              "      <th>0</th>\n",
              "      <td>a01-000u-00-00</td>\n",
              "      <td>ok 154 408 768 27 51 AT A</td>\n",
              "    </tr>\n",
              "    <tr>\n",
              "      <th>1</th>\n",
              "      <td>a01-000u-00-01</td>\n",
              "      <td>ok 154 507 766 213 48 NN MOVE</td>\n",
              "    </tr>\n",
              "    <tr>\n",
              "      <th>2</th>\n",
              "      <td>a01-000u-00-02</td>\n",
              "      <td>ok 154 796 764 70 50 TO to</td>\n",
              "    </tr>\n",
              "    <tr>\n",
              "      <th>3</th>\n",
              "      <td>a01-000u-00-03</td>\n",
              "      <td>ok 154 919 757 166 78 VB stop</td>\n",
              "    </tr>\n",
              "    <tr>\n",
              "      <th>4</th>\n",
              "      <td>a01-000u-00-04</td>\n",
              "      <td>ok 154 1185 754 126 61 NPT Mr.</td>\n",
              "    </tr>\n",
              "  </tbody>\n",
              "</table>\n",
              "</div>\n",
              "    <div class=\"colab-df-buttons\">\n",
              "\n",
              "  <div class=\"colab-df-container\">\n",
              "    <button class=\"colab-df-convert\" onclick=\"convertToInteractive('df-7573a259-79c6-49e2-af3c-042476facdc4')\"\n",
              "            title=\"Convert this dataframe to an interactive table.\"\n",
              "            style=\"display:none;\">\n",
              "\n",
              "  <svg xmlns=\"http://www.w3.org/2000/svg\" height=\"24px\" viewBox=\"0 -960 960 960\">\n",
              "    <path d=\"M120-120v-720h720v720H120Zm60-500h600v-160H180v160Zm220 220h160v-160H400v160Zm0 220h160v-160H400v160ZM180-400h160v-160H180v160Zm440 0h160v-160H620v160ZM180-180h160v-160H180v160Zm440 0h160v-160H620v160Z\"/>\n",
              "  </svg>\n",
              "    </button>\n",
              "\n",
              "  <style>\n",
              "    .colab-df-container {\n",
              "      display:flex;\n",
              "      gap: 12px;\n",
              "    }\n",
              "\n",
              "    .colab-df-convert {\n",
              "      background-color: #E8F0FE;\n",
              "      border: none;\n",
              "      border-radius: 50%;\n",
              "      cursor: pointer;\n",
              "      display: none;\n",
              "      fill: #1967D2;\n",
              "      height: 32px;\n",
              "      padding: 0 0 0 0;\n",
              "      width: 32px;\n",
              "    }\n",
              "\n",
              "    .colab-df-convert:hover {\n",
              "      background-color: #E2EBFA;\n",
              "      box-shadow: 0px 1px 2px rgba(60, 64, 67, 0.3), 0px 1px 3px 1px rgba(60, 64, 67, 0.15);\n",
              "      fill: #174EA6;\n",
              "    }\n",
              "\n",
              "    .colab-df-buttons div {\n",
              "      margin-bottom: 4px;\n",
              "    }\n",
              "\n",
              "    [theme=dark] .colab-df-convert {\n",
              "      background-color: #3B4455;\n",
              "      fill: #D2E3FC;\n",
              "    }\n",
              "\n",
              "    [theme=dark] .colab-df-convert:hover {\n",
              "      background-color: #434B5C;\n",
              "      box-shadow: 0px 1px 3px 1px rgba(0, 0, 0, 0.15);\n",
              "      filter: drop-shadow(0px 1px 2px rgba(0, 0, 0, 0.3));\n",
              "      fill: #FFFFFF;\n",
              "    }\n",
              "  </style>\n",
              "\n",
              "    <script>\n",
              "      const buttonEl =\n",
              "        document.querySelector('#df-7573a259-79c6-49e2-af3c-042476facdc4 button.colab-df-convert');\n",
              "      buttonEl.style.display =\n",
              "        google.colab.kernel.accessAllowed ? 'block' : 'none';\n",
              "\n",
              "      async function convertToInteractive(key) {\n",
              "        const element = document.querySelector('#df-7573a259-79c6-49e2-af3c-042476facdc4');\n",
              "        const dataTable =\n",
              "          await google.colab.kernel.invokeFunction('convertToInteractive',\n",
              "                                                    [key], {});\n",
              "        if (!dataTable) return;\n",
              "\n",
              "        const docLinkHtml = 'Like what you see? Visit the ' +\n",
              "          '<a target=\"_blank\" href=https://colab.research.google.com/notebooks/data_table.ipynb>data table notebook</a>'\n",
              "          + ' to learn more about interactive tables.';\n",
              "        element.innerHTML = '';\n",
              "        dataTable['output_type'] = 'display_data';\n",
              "        await google.colab.output.renderOutput(dataTable, element);\n",
              "        const docLink = document.createElement('div');\n",
              "        docLink.innerHTML = docLinkHtml;\n",
              "        element.appendChild(docLink);\n",
              "      }\n",
              "    </script>\n",
              "  </div>\n",
              "\n",
              "\n",
              "<div id=\"df-891aa4f7-2839-4ba0-a975-64e6e50db5dc\">\n",
              "  <button class=\"colab-df-quickchart\" onclick=\"quickchart('df-891aa4f7-2839-4ba0-a975-64e6e50db5dc')\"\n",
              "            title=\"Suggest charts\"\n",
              "            style=\"display:none;\">\n",
              "\n",
              "<svg xmlns=\"http://www.w3.org/2000/svg\" height=\"24px\"viewBox=\"0 0 24 24\"\n",
              "     width=\"24px\">\n",
              "    <g>\n",
              "        <path d=\"M19 3H5c-1.1 0-2 .9-2 2v14c0 1.1.9 2 2 2h14c1.1 0 2-.9 2-2V5c0-1.1-.9-2-2-2zM9 17H7v-7h2v7zm4 0h-2V7h2v10zm4 0h-2v-4h2v4z\"/>\n",
              "    </g>\n",
              "</svg>\n",
              "  </button>\n",
              "\n",
              "<style>\n",
              "  .colab-df-quickchart {\n",
              "      --bg-color: #E8F0FE;\n",
              "      --fill-color: #1967D2;\n",
              "      --hover-bg-color: #E2EBFA;\n",
              "      --hover-fill-color: #174EA6;\n",
              "      --disabled-fill-color: #AAA;\n",
              "      --disabled-bg-color: #DDD;\n",
              "  }\n",
              "\n",
              "  [theme=dark] .colab-df-quickchart {\n",
              "      --bg-color: #3B4455;\n",
              "      --fill-color: #D2E3FC;\n",
              "      --hover-bg-color: #434B5C;\n",
              "      --hover-fill-color: #FFFFFF;\n",
              "      --disabled-bg-color: #3B4455;\n",
              "      --disabled-fill-color: #666;\n",
              "  }\n",
              "\n",
              "  .colab-df-quickchart {\n",
              "    background-color: var(--bg-color);\n",
              "    border: none;\n",
              "    border-radius: 50%;\n",
              "    cursor: pointer;\n",
              "    display: none;\n",
              "    fill: var(--fill-color);\n",
              "    height: 32px;\n",
              "    padding: 0;\n",
              "    width: 32px;\n",
              "  }\n",
              "\n",
              "  .colab-df-quickchart:hover {\n",
              "    background-color: var(--hover-bg-color);\n",
              "    box-shadow: 0 1px 2px rgba(60, 64, 67, 0.3), 0 1px 3px 1px rgba(60, 64, 67, 0.15);\n",
              "    fill: var(--button-hover-fill-color);\n",
              "  }\n",
              "\n",
              "  .colab-df-quickchart-complete:disabled,\n",
              "  .colab-df-quickchart-complete:disabled:hover {\n",
              "    background-color: var(--disabled-bg-color);\n",
              "    fill: var(--disabled-fill-color);\n",
              "    box-shadow: none;\n",
              "  }\n",
              "\n",
              "  .colab-df-spinner {\n",
              "    border: 2px solid var(--fill-color);\n",
              "    border-color: transparent;\n",
              "    border-bottom-color: var(--fill-color);\n",
              "    animation:\n",
              "      spin 1s steps(1) infinite;\n",
              "  }\n",
              "\n",
              "  @keyframes spin {\n",
              "    0% {\n",
              "      border-color: transparent;\n",
              "      border-bottom-color: var(--fill-color);\n",
              "      border-left-color: var(--fill-color);\n",
              "    }\n",
              "    20% {\n",
              "      border-color: transparent;\n",
              "      border-left-color: var(--fill-color);\n",
              "      border-top-color: var(--fill-color);\n",
              "    }\n",
              "    30% {\n",
              "      border-color: transparent;\n",
              "      border-left-color: var(--fill-color);\n",
              "      border-top-color: var(--fill-color);\n",
              "      border-right-color: var(--fill-color);\n",
              "    }\n",
              "    40% {\n",
              "      border-color: transparent;\n",
              "      border-right-color: var(--fill-color);\n",
              "      border-top-color: var(--fill-color);\n",
              "    }\n",
              "    60% {\n",
              "      border-color: transparent;\n",
              "      border-right-color: var(--fill-color);\n",
              "    }\n",
              "    80% {\n",
              "      border-color: transparent;\n",
              "      border-right-color: var(--fill-color);\n",
              "      border-bottom-color: var(--fill-color);\n",
              "    }\n",
              "    90% {\n",
              "      border-color: transparent;\n",
              "      border-bottom-color: var(--fill-color);\n",
              "    }\n",
              "  }\n",
              "</style>\n",
              "\n",
              "  <script>\n",
              "    async function quickchart(key) {\n",
              "      const quickchartButtonEl =\n",
              "        document.querySelector('#' + key + ' button');\n",
              "      quickchartButtonEl.disabled = true;  // To prevent multiple clicks.\n",
              "      quickchartButtonEl.classList.add('colab-df-spinner');\n",
              "      try {\n",
              "        const charts = await google.colab.kernel.invokeFunction(\n",
              "            'suggestCharts', [key], {});\n",
              "      } catch (error) {\n",
              "        console.error('Error during call to suggestCharts:', error);\n",
              "      }\n",
              "      quickchartButtonEl.classList.remove('colab-df-spinner');\n",
              "      quickchartButtonEl.classList.add('colab-df-quickchart-complete');\n",
              "    }\n",
              "    (() => {\n",
              "      let quickchartButtonEl =\n",
              "        document.querySelector('#df-891aa4f7-2839-4ba0-a975-64e6e50db5dc button');\n",
              "      quickchartButtonEl.style.display =\n",
              "        google.colab.kernel.accessAllowed ? 'block' : 'none';\n",
              "    })();\n",
              "  </script>\n",
              "</div>\n",
              "\n",
              "    </div>\n",
              "  </div>\n"
            ]
          },
          "metadata": {},
          "execution_count": 14
        }
      ]
    },
    {
      "cell_type": "markdown",
      "source": [
        "**6. Split your dataset for training and testing**"
      ],
      "metadata": {
        "id": "qhXvUmQjO7tj"
      }
    },
    {
      "cell_type": "code",
      "source": [
        "# Separate into training and testing sets (e.g., 80% for training, 20% for testing)\n",
        "train_size = int(0.8 * len(df_subset))\n",
        "train_data, test_data = df_subset[:train_size], df_subset[train_size:]"
      ],
      "metadata": {
        "id": "FxE_4YpxrcMg"
      },
      "execution_count": null,
      "outputs": []
    },
    {
      "cell_type": "code",
      "source": [
        "# Print a few rows to verify the data\n",
        "print(\"Training Data:\")\n",
        "print(train_data.head())\n",
        "\n",
        "print(\"\\nTesting Data:\")\n",
        "print(test_data.head())"
      ],
      "metadata": {
        "colab": {
          "base_uri": "https://localhost:8080/"
        },
        "id": "x-PTu9Varg8b",
        "outputId": "2661fe3a-2c08-4896-dc09-b7a939771a95"
      },
      "execution_count": null,
      "outputs": [
        {
          "output_type": "stream",
          "name": "stdout",
          "text": [
            "Training Data:\n",
            "         Image_ID                            Word\n",
            "0  a01-000u-00-00       ok 154 408 768 27 51 AT A\n",
            "1  a01-000u-00-01   ok 154 507 766 213 48 NN MOVE\n",
            "2  a01-000u-00-02      ok 154 796 764 70 50 TO to\n",
            "3  a01-000u-00-03   ok 154 919 757 166 78 VB stop\n",
            "4  a01-000u-00-04  ok 154 1185 754 126 61 NPT Mr.\n",
            "\n",
            "Testing Data:\n",
            "           Image_ID                              Word\n",
            "8000  a03-050-02-01  ok 162 588 1104 263 58 VB regard\n",
            "8001  a03-050-02-02   ok 162 938 1096 119 47 PP3O him\n",
            "8002  a03-050-02-03       ok 162 1162 1137 28 19 *' \"\n",
            "8003  a03-050-02-04      ok 162 1224 1118 87 31 IN as\n",
            "8004  a03-050-02-05  ok 162 1370 1115 185 28 DTI some\n"
          ]
        }
      ]
    },
    {
      "cell_type": "markdown",
      "source": [
        "**2. Images can be of different shape thus resize all your images to have the same shape (forexample = (128,32))**"
      ],
      "metadata": {
        "id": "sw5KsKZCsHZ_"
      }
    },
    {
      "cell_type": "code",
      "source": [
        "from google.colab import drive\n",
        "\n",
        "# Mount Google Drive\n",
        "drive.mount('/content/drive')\n",
        "\n",
        "# Define the path to the directory containing images\n",
        "images_directory = '/content/drive/MyDrive/words'"
      ],
      "metadata": {
        "colab": {
          "base_uri": "https://localhost:8080/"
        },
        "id": "ioZyY4cL2Wa5",
        "outputId": "9e32c5ac-28fa-43e3-fda8-26f6790f89f4"
      },
      "execution_count": null,
      "outputs": [
        {
          "output_type": "stream",
          "name": "stdout",
          "text": [
            "Drive already mounted at /content/drive; to attempt to forcibly remount, call drive.mount(\"/content/drive\", force_remount=True).\n"
          ]
        }
      ]
    },
    {
      "cell_type": "code",
      "source": [
        "! ls '/content/drive/MyDrive/words'"
      ],
      "metadata": {
        "colab": {
          "base_uri": "https://localhost:8080/"
        },
        "id": "ZxPyena5Lbky",
        "outputId": "da4bc7c6-4b68-49a2-c71a-16689a4a7d7f"
      },
      "execution_count": null,
      "outputs": [
        {
          "output_type": "stream",
          "name": "stdout",
          "text": [
            "a01  a05  b03  c01  c06  d05  e02  f01\tf07  g04  h01  h06  j06  k03  l03  m02\tn01  n06  p06\n",
            "a02  a06  b04  c02  d01  d06  e04  f02\tg01  g05  h02  h07  j07  k04  l04  m03\tn02  p01  r02\n",
            "a03  b01  b05  c03  d03  d07  e06  f03\tg02  g06  h04  j01  k01  k07  l07  m04\tn03  p02  r03\n",
            "a04  b02  b06  c04  d04  e01  e07  f04\tg03  g07  h05  j04  k02  l01  m01  m06\tn04  p03  r06\n"
          ]
        }
      ]
    },
    {
      "cell_type": "code",
      "source": [
        "# Check the number of files in the original images_directory\n",
        "print(f\"Number of Files in Original Images Directory: {len(os.listdir(images_directory))}\")"
      ],
      "metadata": {
        "colab": {
          "base_uri": "https://localhost:8080/"
        },
        "id": "j0i0gfRn1isD",
        "outputId": "940dabc7-be98-40ee-8c65-59666f12f889"
      },
      "execution_count": null,
      "outputs": [
        {
          "output_type": "stream",
          "name": "stdout",
          "text": [
            "Number of Files in Original Images Directory: 77\n"
          ]
        }
      ]
    },
    {
      "cell_type": "code",
      "source": [
        "from sklearn.model_selection import train_test_split\n",
        "\n",
        "# List of filenames in the image directory\n",
        "filenames = os.listdir(images_directory)\n",
        "\n",
        "# Split the data into training and temporary sets\n",
        "train_filenames, temp_filenames = train_test_split(filenames, test_size=0.4, random_state=42)\n",
        "\n",
        "# Split the temporary set into testing and validation sets\n",
        "test_filenames, val_filenames = train_test_split(temp_filenames, test_size=0.5, random_state=42)\n",
        "\n",
        "# Print the number of samples in each set\n",
        "print(\"Number of training samples:\", len(train_filenames))\n",
        "print(\"Number of testing samples:\", len(test_filenames))\n",
        "print(\"Number of validation samples:\", len(val_filenames))\n"
      ],
      "metadata": {
        "colab": {
          "base_uri": "https://localhost:8080/"
        },
        "id": "1o2G6s7h9DeS",
        "outputId": "d99d995a-fcf2-46bf-96d5-d6ed89f97490"
      },
      "execution_count": null,
      "outputs": [
        {
          "output_type": "stream",
          "name": "stdout",
          "text": [
            "Number of training samples: 46\n",
            "Number of testing samples: 15\n",
            "Number of validation samples: 16\n"
          ]
        }
      ]
    },
    {
      "cell_type": "code",
      "source": [
        "from PIL import Image\n",
        "\n",
        "# Define the target shape\n",
        "target_shape = (128, 32)\n",
        "\n",
        "# Create a list to store resized images\n",
        "resized_images = []\n",
        "\n",
        "# Iterate through each image in the directory\n",
        "for filename in os.listdir(images_directory):\n",
        "    if filename.endswith(\".png\"):  # Adjust the file extension as needed\n",
        "        # Construct the full path to the image\n",
        "        image_path = os.path.join(images_directory, filename)\n",
        "\n",
        "        # Open and resize the image\n",
        "        img = Image.open(image_path)\n",
        "        img = img.resize(target_shape)\n",
        "\n",
        "        # Convert the image to a NumPy array\n",
        "        img_array = np.array(img)\n",
        "\n",
        "        # Append the resized image to the list\n",
        "        resized_images.append(img_array)\n",
        "\n",
        "# Convert the list of resized images to a NumPy array\n",
        "resized_images = np.array(resized_images)"
      ],
      "metadata": {
        "id": "e1O_tROcOgUs"
      },
      "execution_count": null,
      "outputs": []
    },
    {
      "cell_type": "code",
      "source": [],
      "metadata": {
        "id": "TAuEf1opKC-c"
      },
      "execution_count": null,
      "outputs": []
    },
    {
      "cell_type": "code",
      "source": [
        "# Print the shape of the resized images array\n",
        "print(resized_images.shape)"
      ],
      "metadata": {
        "id": "x3N835L4gaAY",
        "outputId": "9ca3fb5a-b8ce-4ae8-c506-f119209d0080",
        "colab": {
          "base_uri": "https://localhost:8080/"
        }
      },
      "execution_count": null,
      "outputs": [
        {
          "output_type": "stream",
          "name": "stdout",
          "text": [
            "(0,)\n"
          ]
        }
      ]
    },
    {
      "cell_type": "markdown",
      "source": [
        "**3. Currently, the pixel values are between 0 to 255, normalize the images so that the pixel\n",
        "values are in range 0 to 1**"
      ],
      "metadata": {
        "id": "3jyRvJs_PcVo"
      }
    },
    {
      "cell_type": "code",
      "source": [
        "# Normalize pixel values to be in the range [0, 1]\n",
        "normalized_images = resized_images / 255.0"
      ],
      "metadata": {
        "id": "EMk0o3y_QFbs"
      },
      "execution_count": null,
      "outputs": []
    },
    {
      "cell_type": "markdown",
      "source": [
        "**4. Create a list of all characters and use the character’s index to encode the actual words\n",
        "into digits**"
      ],
      "metadata": {
        "id": "yIah9pQ5PwrZ"
      }
    },
    {
      "cell_type": "code",
      "source": [
        "# Create a list of all unique characters in the words\n",
        "all_characters = sorted(set(' '.join(df['Word'])))\n",
        "num_classes = len(all_characters) + 1  # Add 1 for the blank character\n",
        "\n",
        "# Create a dictionary mapping characters to their respective indices\n",
        "char_to_index = {char: idx for idx, char in enumerate(all_characters)}\n",
        "\n",
        "# Create a dictionary mapping indices to their respective characters\n",
        "index_to_char = {idx: char for idx, char in enumerate(all_characters)}\n",
        "\n",
        "# Function to encode a word into a sequence of digits\n",
        "def encode_word(word):\n",
        "    return [char_to_index[char] for char in word]\n",
        "\n",
        "# Apply the encoding to the 'Word' column in the DataFrame\n",
        "train_data['Encoded_Word'] = train_data['Word'].apply(encode_word)\n",
        "test_data['Encoded_Word'] = test_data['Word'].apply(encode_word)\n"
      ],
      "metadata": {
        "colab": {
          "base_uri": "https://localhost:8080/"
        },
        "id": "laCVRrCHQCJz",
        "outputId": "d19c5ce3-a8c3-450d-a4c1-83970f0d2252"
      },
      "execution_count": null,
      "outputs": [
        {
          "output_type": "stream",
          "name": "stderr",
          "text": [
            "<ipython-input-23-32cd7c584fb8>:16: SettingWithCopyWarning: \n",
            "A value is trying to be set on a copy of a slice from a DataFrame.\n",
            "Try using .loc[row_indexer,col_indexer] = value instead\n",
            "\n",
            "See the caveats in the documentation: https://pandas.pydata.org/pandas-docs/stable/user_guide/indexing.html#returning-a-view-versus-a-copy\n",
            "  train_data['Encoded_Word'] = train_data['Word'].apply(encode_word)\n",
            "<ipython-input-23-32cd7c584fb8>:17: SettingWithCopyWarning: \n",
            "A value is trying to be set on a copy of a slice from a DataFrame.\n",
            "Try using .loc[row_indexer,col_indexer] = value instead\n",
            "\n",
            "See the caveats in the documentation: https://pandas.pydata.org/pandas-docs/stable/user_guide/indexing.html#returning-a-view-versus-a-copy\n",
            "  test_data['Encoded_Word'] = test_data['Word'].apply(encode_word)\n"
          ]
        }
      ]
    },
    {
      "cell_type": "code",
      "source": [
        "# Example output for the 'Encoded_Word' column in the training set\n",
        "print(\"Encoded Words in the Training Set:\")\n",
        "print(train_data['Encoded_Word'].head())\n",
        "\n",
        "# Example output for the 'Encoded_Word' column in the testing set\n",
        "print(\"\\nEncoded Words in the Testing Set:\")\n",
        "print(test_data['Encoded_Word'].head())\n"
      ],
      "metadata": {
        "colab": {
          "base_uri": "https://localhost:8080/"
        },
        "id": "FQPZCREKUCkx",
        "outputId": "55e9fa8c-dbd6-4b9c-cb43-ec40cab482ef"
      },
      "execution_count": null,
      "outputs": [
        {
          "output_type": "stream",
          "name": "stdout",
          "text": [
            "Encoded Words in the Training Set:\n",
            "0    [68, 64, 0, 16, 20, 19, 0, 19, 15, 23, 0, 22, ...\n",
            "1    [68, 64, 0, 16, 20, 19, 0, 20, 15, 22, 0, 22, ...\n",
            "2    [68, 64, 0, 16, 20, 19, 0, 22, 24, 21, 0, 22, ...\n",
            "3    [68, 64, 0, 16, 20, 19, 0, 24, 16, 24, 0, 22, ...\n",
            "4    [68, 64, 0, 16, 20, 19, 0, 16, 16, 23, 20, 0, ...\n",
            "Name: Encoded_Word, dtype: object\n",
            "\n",
            "Encoded Words in the Testing Set:\n",
            "8000    [68, 64, 0, 16, 21, 17, 0, 20, 23, 23, 0, 16, ...\n",
            "8001    [68, 64, 0, 16, 21, 17, 0, 24, 18, 23, 0, 16, ...\n",
            "8002    [68, 64, 0, 16, 21, 17, 0, 16, 16, 21, 17, 0, ...\n",
            "8003    [68, 64, 0, 16, 21, 17, 0, 16, 17, 17, 19, 0, ...\n",
            "8004    [68, 64, 0, 16, 21, 17, 0, 16, 18, 22, 15, 0, ...\n",
            "Name: Encoded_Word, dtype: object\n"
          ]
        }
      ]
    },
    {
      "cell_type": "markdown",
      "source": [
        "**5. Pad all the words to have a similar length**"
      ],
      "metadata": {
        "id": "9vz1mWX0P2Nv"
      }
    },
    {
      "cell_type": "code",
      "source": [
        "# Find the maximum length of words in the training set\n",
        "max_word_length = max(train_data['Encoded_Word'].apply(len))\n",
        "\n",
        "# Pad all words to have the same length\n",
        "train_padded_words = pad_sequences(train_data['Encoded_Word'], maxlen=max_word_length, padding='post')\n",
        "test_padded_words = pad_sequences(test_data['Encoded_Word'], maxlen=max_word_length, padding='post')\n"
      ],
      "metadata": {
        "id": "DbOKhrwYSmeN"
      },
      "execution_count": null,
      "outputs": []
    },
    {
      "cell_type": "code",
      "source": [
        "# Print the first few padded sequences in the training set\n",
        "print(\"Padded sequences in the training set:\")\n",
        "print(train_padded_words[:5])\n",
        "\n",
        "# Print the first few padded sequences in the testing set\n",
        "print(\"\\nPadded sequences in the testing set:\")\n",
        "print(test_padded_words[:5])"
      ],
      "metadata": {
        "colab": {
          "base_uri": "https://localhost:8080/"
        },
        "id": "SCwqk82bTvkZ",
        "outputId": "b4688a78-505b-4042-d9c0-74c5b8addb49"
      },
      "execution_count": null,
      "outputs": [
        {
          "output_type": "stream",
          "name": "stdout",
          "text": [
            "Padded sequences in the training set:\n",
            "[[68 64  0 16 20 19  0 19 15 23  0 22 21 23  0 17 22  0 20 16  0 28 47  0\n",
            "  28  0  0  0  0  0  0  0  0  0  0  0  0  0  0  0  0  0  0  0  0  0]\n",
            " [68 64  0 16 20 19  0 20 15 22  0 22 21 21  0 17 16 18  0 19 23  0 41 41\n",
            "   0 40 42 49 32  0  0  0  0  0  0  0  0  0  0  0  0  0  0  0  0  0]\n",
            " [68 64  0 16 20 19  0 22 24 21  0 22 21 19  0 22 15  0 20 15  0 47 42  0\n",
            "  73 68  0  0  0  0  0  0  0  0  0  0  0  0  0  0  0  0  0  0  0  0]\n",
            " [68 64  0 16 20 19  0 24 16 24  0 22 20 22  0 16 21 21  0 22 23  0 49 29\n",
            "   0 72 73 68 69  0  0  0  0  0  0  0  0  0  0  0  0  0  0  0  0  0]\n",
            " [68 64  0 16 20 19  0 16 16 23 20  0 22 20 19  0 16 17 21  0 21 16  0 41\n",
            "  43 47  0 40 71 13  0  0  0  0  0  0  0  0  0  0  0  0  0  0  0  0]]\n",
            "\n",
            "Padded sequences in the testing set:\n",
            "[[68 64  0 16 21 17  0 20 23 23  0 16 16 15 19  0 17 21 18  0 20 23  0 49\n",
            "  29  0 71 58 60 54 71 57  0  0  0  0  0  0  0  0  0  0  0  0  0  0]\n",
            " [68 64  0 16 21 17  0 24 18 23  0 16 15 24 21  0 16 16 24  0 19 22  0 43\n",
            "  43 18 42  0 61 62 66  0  0  0  0  0  0  0  0  0  0  0  0  0  0  0]\n",
            " [68 64  0 16 21 17  0 16 16 21 17  0 16 16 18 22  0 17 23  0 16 24  0  9\n",
            "   6  0  2  0  0  0  0  0  0  0  0  0  0  0  0  0  0  0  0  0  0  0]\n",
            " [68 64  0 16 21 17  0 16 17 17 19  0 16 16 16 23  0 23 22  0 18 16  0 36\n",
            "  41  0 54 72  0  0  0  0  0  0  0  0  0  0  0  0  0  0  0  0  0  0]\n",
            " [68 64  0 16 21 17  0 16 18 22 15  0 16 16 16 20  0 16 23 20  0 17 23  0\n",
            "  31 47 36  0 72 68 66 58  0  0  0  0  0  0  0  0  0  0  0  0  0  0]]\n"
          ]
        }
      ]
    },
    {
      "cell_type": "markdown",
      "source": [
        "**7. Create a model for training:**\n",
        "\n",
        "a) Add several CNN layers to extract the sequence of features\n",
        "\n",
        "b) Add Bi-LSTM layers to propagate through the sequence\n",
        "\n",
        "c) Add a dense layer (output layer) with total number of neurons as (total number ofcharacters + 1) and the activation as softmax"
      ],
      "metadata": {
        "id": "rc_l41stQjdH"
      }
    },
    {
      "cell_type": "code",
      "source": [
        "from keras.layers import Reshape\n",
        "\n",
        "# Define the model\n",
        "input_shape = target_shape + (3,)  # Assuming images are in color (RGB)\n",
        "\n",
        "inputs = Input(shape=input_shape, name='input_image')\n",
        "x = Conv2D(32, (3, 3), activation='relu', padding='same')(inputs)\n",
        "x = MaxPooling2D((2, 2))(x)\n",
        "x = Conv2D(64, (3, 3), activation='relu', padding='same')(x)\n",
        "x = MaxPooling2D((2, 2))(x)\n",
        "\n",
        "# Flatten the feature map\n",
        "x = Flatten()(x)\n",
        "\n",
        "# Reshape to 3D\n",
        "x = Reshape((-1, 1))(x)\n",
        "\n",
        "# Bidirectional LSTM layers\n",
        "x = Bidirectional(LSTM(128, return_sequences=True))(x)\n",
        "x = Bidirectional(LSTM(64, return_sequences=True))(x)\n",
        "\n",
        "# Output layer\n",
        "outputs = Dense(num_classes, activation='softmax', name='output')(x)\n",
        "\n",
        "# Define the model\n",
        "model = Model(inputs=inputs, outputs=outputs)\n",
        "\n",
        "# Compile the model\n",
        "optimizer = Adam(learning_rate=0.001)\n",
        "model.compile(optimizer=optimizer, loss='sparse_categorical_crossentropy', metrics=['accuracy'])\n"
      ],
      "metadata": {
        "id": "r3wsHxYDS7EH"
      },
      "execution_count": null,
      "outputs": []
    },
    {
      "cell_type": "code",
      "source": [
        "# Print the summary of the model\n",
        "model.summary()"
      ],
      "metadata": {
        "colab": {
          "base_uri": "https://localhost:8080/"
        },
        "id": "QAYn7PO5Tei4",
        "outputId": "bf30eb4d-875d-42e4-fb35-e91ba14cc2cb"
      },
      "execution_count": null,
      "outputs": [
        {
          "output_type": "stream",
          "name": "stdout",
          "text": [
            "Model: \"model\"\n",
            "_________________________________________________________________\n",
            " Layer (type)                Output Shape              Param #   \n",
            "=================================================================\n",
            " input_image (InputLayer)    [(None, 128, 32, 3)]      0         \n",
            "                                                                 \n",
            " conv2d (Conv2D)             (None, 128, 32, 32)       896       \n",
            "                                                                 \n",
            " max_pooling2d (MaxPooling2  (None, 64, 16, 32)        0         \n",
            " D)                                                              \n",
            "                                                                 \n",
            " conv2d_1 (Conv2D)           (None, 64, 16, 64)        18496     \n",
            "                                                                 \n",
            " max_pooling2d_1 (MaxPoolin  (None, 32, 8, 64)         0         \n",
            " g2D)                                                            \n",
            "                                                                 \n",
            " flatten (Flatten)           (None, 16384)             0         \n",
            "                                                                 \n",
            " reshape (Reshape)           (None, 16384, 1)          0         \n",
            "                                                                 \n",
            " bidirectional (Bidirection  (None, 16384, 256)        133120    \n",
            " al)                                                             \n",
            "                                                                 \n",
            " bidirectional_1 (Bidirecti  (None, 16384, 128)        164352    \n",
            " onal)                                                           \n",
            "                                                                 \n",
            " output (Dense)              (None, 16384, 81)         10449     \n",
            "                                                                 \n",
            "=================================================================\n",
            "Total params: 327313 (1.25 MB)\n",
            "Trainable params: 327313 (1.25 MB)\n",
            "Non-trainable params: 0 (0.00 Byte)\n",
            "_________________________________________________________________\n"
          ]
        }
      ]
    },
    {
      "cell_type": "markdown",
      "source": [
        "**8. The output sequence from the output layer will be fed to the CTC layer.**"
      ],
      "metadata": {
        "id": "pTfvhEDzRQTP"
      }
    },
    {
      "cell_type": "code",
      "source": [
        "# CTC loss layer\n",
        "input_length = np.ones((len(train_padded_words), 1)) * max_word_length\n",
        "label_length = np.array([len(seq) for seq in train_padded_words]).reshape(-1, 1)\n",
        "\n",
        "# Define the CTC loss function\n",
        "def ctc_lambda_func(args):\n",
        "    y_pred, labels, input_length, label_length = args\n",
        "    return K.ctc_batch_cost(labels, y_pred, input_length, label_length)\n",
        "\n",
        "# Connect the CTC loss layer to the model\n",
        "ctc_loss = Lambda(ctc_lambda_func, output_shape=(1,), name='ctc')([outputs, train_padded_words, input_length, label_length])\n",
        "\n",
        "# Create the final model for training\n",
        "model_train = Model(inputs=inputs, outputs=ctc_loss)\n",
        "\n",
        "# Compile the final model\n",
        "optimizer = Adam(learning_rate=0.001)\n",
        "model_train.compile(optimizer=optimizer, loss={'ctc': lambda y_true, y_pred: y_pred}, metrics=['accuracy'])\n"
      ],
      "metadata": {
        "id": "MxPw_7wjR1KT"
      },
      "execution_count": null,
      "outputs": []
    },
    {
      "cell_type": "code",
      "source": [
        "# Print the summary of the model\n",
        "model_train.summary()\n",
        "\n",
        "# Print additional information\n",
        "print(f\"Number of training examples: {len(train_padded_words)}\")\n",
        "print(f\"Input shape: {input_shape}\")\n",
        "print(f\"Number of classes: {num_classes}\")\n",
        "\n"
      ],
      "metadata": {
        "colab": {
          "base_uri": "https://localhost:8080/"
        },
        "id": "t2kNZQwKSN4z",
        "outputId": "cebe7258-ddb0-43dc-a3a7-05bfe4d38f02"
      },
      "execution_count": null,
      "outputs": [
        {
          "output_type": "stream",
          "name": "stdout",
          "text": [
            "Model: \"model_1\"\n",
            "_________________________________________________________________\n",
            " Layer (type)                Output Shape              Param #   \n",
            "=================================================================\n",
            " input_image (InputLayer)    [(None, 128, 32, 3)]      0         \n",
            "                                                                 \n",
            " conv2d (Conv2D)             (None, 128, 32, 32)       896       \n",
            "                                                                 \n",
            " max_pooling2d (MaxPooling2  (None, 64, 16, 32)        0         \n",
            " D)                                                              \n",
            "                                                                 \n",
            " conv2d_1 (Conv2D)           (None, 64, 16, 64)        18496     \n",
            "                                                                 \n",
            " max_pooling2d_1 (MaxPoolin  (None, 32, 8, 64)         0         \n",
            " g2D)                                                            \n",
            "                                                                 \n",
            " flatten (Flatten)           (None, 16384)             0         \n",
            "                                                                 \n",
            " reshape (Reshape)           (None, 16384, 1)          0         \n",
            "                                                                 \n",
            " bidirectional (Bidirection  (None, 16384, 256)        133120    \n",
            " al)                                                             \n",
            "                                                                 \n",
            " bidirectional_1 (Bidirecti  (None, 16384, 128)        164352    \n",
            " onal)                                                           \n",
            "                                                                 \n",
            " output (Dense)              (None, 16384, 81)         10449     \n",
            "                                                                 \n",
            " ctc (Lambda)                (8000, 1)                 0         \n",
            "                                                                 \n",
            "=================================================================\n",
            "Total params: 327313 (1.25 MB)\n",
            "Trainable params: 327313 (1.25 MB)\n",
            "Non-trainable params: 0 (0.00 Byte)\n",
            "_________________________________________________________________\n",
            "Number of training examples: 8000\n",
            "Input shape: (128, 32, 3)\n",
            "Number of classes: 81\n"
          ]
        }
      ]
    },
    {
      "cell_type": "markdown",
      "source": [
        "**9. Predict output using your model (do not use the last loss layer) on validation images, use ctc_decode to decode your output and then print the actual words using the indexes\n",
        "from your characters list.**"
      ],
      "metadata": {
        "id": "5BLnlMsrVpCp"
      }
    },
    {
      "cell_type": "code",
      "source": [
        "# Load and preprocess validation images\n",
        "val_images = []\n",
        "\n",
        "for filename in val_filenames:\n",
        "    image_path = os.path.join(images_directory, filename)\n",
        "\n",
        "    # Skip directories\n",
        "    if os.path.isdir(image_path):\n",
        "        continue\n",
        "\n",
        "    try:\n",
        "        img = Image.open(image_path)\n",
        "        img = img.resize(target_shape)\n",
        "        img_array = np.array(img) / 255.0  # Normalize pixel values\n",
        "        val_images.append(img_array)\n",
        "    except Exception as e:\n",
        "        print(f\"Error processing image {filename}: {e}\")\n",
        "\n",
        "# Convert val_images to a numpy array\n",
        "val_images = np.array(val_images)\n",
        "\n",
        "# Print the filenames being processed\n",
        "print(\"Filenames being processed:\")\n",
        "print(val_filenames)\n",
        "\n",
        "# Print the shape of the val_images array\n",
        "print(\"Shape of val_images array:\", val_images.shape)\n",
        "\n",
        "# Ensure that val_images is not empty before predicting\n",
        "if val_images.shape[0] == 0:\n",
        "    print(\"No valid images found in the validation set.\")\n",
        "else:\n",
        "    # Predict output using the model (excluding the last loss layer)\n",
        "    predictions = model.predict(val_images)\n",
        "\n",
        "    # Use ctc_decode to decode the output\n",
        "    decoded, _ = K.ctc_decode(predictions, input_length=np.ones(predictions.shape[0]) * predictions.shape[1])\n",
        "\n",
        "    # Convert the decoded indices to actual words\n",
        "    decoded_words = []\n",
        "    for i, sequence in enumerate(decoded):\n",
        "        decoded_word = ''.join([index_to_char[idx] for idx in sequence if idx != -1])\n",
        "        decoded_words.append(decoded_word)\n",
        "\n",
        "    # Print actual words and their decoded counterparts\n",
        "    actual_words = test_data.loc[test_data['Image_ID'].isin(val_filenames), 'Word'].tolist()\n",
        "\n",
        "    for actual, predicted in zip(actual_words, decoded_words):\n",
        "        print(f\"Actual: {actual}, Predicted: {predicted}\")\n"
      ],
      "metadata": {
        "colab": {
          "base_uri": "https://localhost:8080/"
        },
        "id": "LZwALKv-Sego",
        "outputId": "5fe21246-6971-4398-94cd-585abd0d33ab"
      },
      "execution_count": null,
      "outputs": [
        {
          "output_type": "stream",
          "name": "stdout",
          "text": [
            "Filenames being processed:\n",
            "['r03', 'h05', 'm01', 'r06', 'g03', 'j07', 'f07', 'c03', 'n02', 'p03', 'f01', 'n06', 'g02', 'm04', 'a04', 'h02']\n",
            "Shape of val_images array: (0,)\n",
            "No valid images found in the validation set.\n"
          ]
        }
      ]
    }
  ]
}